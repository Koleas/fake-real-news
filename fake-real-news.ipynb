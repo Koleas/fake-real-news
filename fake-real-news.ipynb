{
 "cells": [
  {
   "cell_type": "code",
   "execution_count": 14,
   "metadata": {
    "ExecuteTime": {
     "end_time": "2020-08-05T08:43:13.739081Z",
     "start_time": "2020-08-05T08:43:13.736587Z"
    }
   },
   "outputs": [],
   "source": [
    "import pandas as pd"
   ]
  },
  {
   "cell_type": "code",
   "execution_count": 21,
   "metadata": {
    "ExecuteTime": {
     "end_time": "2020-08-05T08:45:09.257373Z",
     "start_time": "2020-08-05T08:45:08.846632Z"
    }
   },
   "outputs": [],
   "source": [
    "df = pd.read_csv ('dataset/Fake.csv')\n",
    "fileFake = df['text'].to_list()\n",
    "a = list(map(lambda x: x.lower(),fileFake[1].split(' ')))"
   ]
  },
  {
   "cell_type": "code",
   "execution_count": 22,
   "metadata": {
    "ExecuteTime": {
     "end_time": "2020-08-05T08:45:09.738399Z",
     "start_time": "2020-08-05T08:45:09.735261Z"
    }
   },
   "outputs": [],
   "source": [
    "b={i:0 for i in a}\n",
    "for i in a:\n",
    "    b[i]+=1"
   ]
  },
  {
   "cell_type": "code",
   "execution_count": 23,
   "metadata": {
    "ExecuteTime": {
     "end_time": "2020-08-05T08:45:10.114730Z",
     "start_time": "2020-08-05T08:45:10.103337Z"
    }
   },
   "outputs": [
    {
     "data": {
      "text/plain": [
       "{'the': 16,\n",
       " 'a': 11,\n",
       " 'to': 9,\n",
       " 'of': 6,\n",
       " 'papadopoulos': 6,\n",
       " 'and': 5,\n",
       " 'with': 5,\n",
       " 'is': 4,\n",
       " 'he': 4,\n",
       " 's': 4,\n",
       " 'that': 4,\n",
       " '': 4,\n",
       " 'was': 3,\n",
       " 'in': 3,\n",
       " 'as': 3,\n",
       " 'it': 3,\n",
       " 'trump': 3,\n",
       " 'wine': 3,\n",
       " 't': 3,\n",
       " 'but': 3,\n",
       " 'officials': 3,\n",
       " 'been': 2,\n",
       " 'what': 2,\n",
       " 'so': 2,\n",
       " 'at': 2,\n",
       " 'according': 2,\n",
       " 'by': 2,\n",
       " 'new': 2,\n",
       " 'york': 2,\n",
       " 'when': 2,\n",
       " 'revealed': 2,\n",
       " 'knowledge': 2,\n",
       " 'russian': 2,\n",
       " 'on': 2,\n",
       " 'hillary': 2,\n",
       " 'for': 2,\n",
       " 'trump,': 2,\n",
       " 'much': 2,\n",
       " 'being': 2,\n",
       " 'coffee': 2,\n",
       " 'two': 2,\n",
       " 'months': 2,\n",
       " 'before': 2,\n",
       " 'former': 2,\n",
       " 'australian': 2,\n",
       " 'alexander': 2,\n",
       " 'mr.': 2,\n",
       " 'american': 2,\n",
       " 'house': 1,\n",
       " 'intelligence': 1,\n",
       " 'committee': 1,\n",
       " 'chairman': 1,\n",
       " 'devin': 1,\n",
       " 'nunes': 1,\n",
       " 'going': 1,\n",
       " 'have': 1,\n",
       " 'bad': 1,\n",
       " 'day.': 1,\n",
       " 'under': 1,\n",
       " 'assumption,': 1,\n",
       " 'like': 1,\n",
       " 'many': 1,\n",
       " 'us,': 1,\n",
       " 'christopher': 1,\n",
       " 'steele-dossier': 1,\n",
       " 'prompted': 1,\n",
       " 'russia': 1,\n",
       " 'investigation': 1,\n",
       " 'lashing': 1,\n",
       " 'out': 1,\n",
       " 'department': 1,\n",
       " 'justice': 1,\n",
       " 'fbi': 1,\n",
       " 'order': 1,\n",
       " 'protect': 1,\n",
       " 'trump.': 1,\n",
       " 'happens,': 1,\n",
       " 'dossier': 1,\n",
       " 'not': 1,\n",
       " 'started': 1,\n",
       " 'investigation,': 1,\n",
       " 'documents': 1,\n",
       " 'obtained': 1,\n",
       " 'times.former': 1,\n",
       " 'campaign': 1,\n",
       " 'adviser': 1,\n",
       " 'george': 1,\n",
       " 'drunk': 1,\n",
       " 'bar': 1,\n",
       " 'opposition': 1,\n",
       " 'research': 1,\n",
       " 'clinton.on': 1,\n",
       " 'top': 1,\n",
       " 'that,': 1,\n",
       " 'wasn': 1,\n",
       " 'just': 1,\n",
       " 'covfefe': 1,\n",
       " 'boy': 1,\n",
       " 'his': 1,\n",
       " 'administration': 1,\n",
       " 'has': 1,\n",
       " 'alleged.': 1,\n",
       " 'had': 1,\n",
       " 'larger': 1,\n",
       " 'role,': 1,\n",
       " 'none': 1,\n",
       " 'damning': 1,\n",
       " 'drunken': 1,\n",
       " 'fool': 1,\n",
       " 'bar.': 1,\n",
       " 'boys': 1,\n",
       " 'don': 1,\n",
       " 'help': 1,\n",
       " 'arrange': 1,\n",
       " 'meeting': 1,\n",
       " 'between': 1,\n",
       " 'president': 1,\n",
       " 'abdel': 1,\n",
       " 'fattah': 1,\n",
       " 'el-sisi': 1,\n",
       " 'egypt': 1,\n",
       " 'election.': 1,\n",
       " 'known': 1,\n",
       " 'aide': 1,\n",
       " 'set': 1,\n",
       " 'up': 1,\n",
       " 'meetings': 1,\n",
       " 'world': 1,\n",
       " 'leaders': 1,\n",
       " 'team': 1,\n",
       " 'ran': 1,\n",
       " 'him': 1,\n",
       " 'merely': 1,\n",
       " 'boy.in': 1,\n",
       " 'may': 1,\n",
       " '2016,': 1,\n",
       " 'diplomat': 1,\n",
       " 'downer': 1,\n",
       " 'were': 1,\n",
       " 'shopping': 1,\n",
       " 'around': 1,\n",
       " 'possible': 1,\n",
       " 'dirt': 1,\n",
       " 'then-democratic': 1,\n",
       " 'presidential': 1,\n",
       " 'nominee': 1,\n",
       " 'clinton.': 1,\n",
       " 'exactly': 1,\n",
       " 'how': 1,\n",
       " 'said': 1,\n",
       " 'night': 1,\n",
       " 'kensington': 1,\n",
       " 'rooms': 1,\n",
       " 'australian,': 1,\n",
       " 'downer,': 1,\n",
       " 'unclear,': 1,\n",
       " 'report': 1,\n",
       " 'states.': 1,\n",
       " 'later,': 1,\n",
       " 'leaked': 1,\n",
       " 'democratic': 1,\n",
       " 'emails': 1,\n",
       " 'began': 1,\n",
       " 'appearing': 1,\n",
       " 'online,': 1,\n",
       " 'passed': 1,\n",
       " 'information': 1,\n",
       " 'about': 1,\n",
       " 'their': 1,\n",
       " 'counterparts,': 1,\n",
       " 'four': 1,\n",
       " 'current': 1,\n",
       " 'foreign': 1,\n",
       " 'direct': 1,\n",
       " 'australians': 1,\n",
       " 'role.': 1,\n",
       " 'pleaded': 1,\n",
       " 'guilty': 1,\n",
       " 'lying': 1,\n",
       " 'f.b.i.': 1,\n",
       " 'now': 1,\n",
       " 'cooperating': 1,\n",
       " 'witness': 1,\n",
       " 'special': 1,\n",
       " 'counsel': 1,\n",
       " 'robert': 1,\n",
       " 'mueller': 1,\n",
       " 'team.this': 1,\n",
       " 'isn': 1,\n",
       " 'presidency.': 1,\n",
       " 'badly': 1,\n",
       " 'scripted': 1,\n",
       " 'reality': 1,\n",
       " 'tv': 1,\n",
       " 'show.photo': 1,\n",
       " 'win': 1,\n",
       " 'mcnamee/getty': 1,\n",
       " 'images.': 1}"
      ]
     },
     "execution_count": 23,
     "metadata": {},
     "output_type": "execute_result"
    }
   ],
   "source": [
    "#Сортировка\n",
    "b={k: v for k, v in sorted(b.items(), key=lambda item: item[1], reverse=True)}\n",
    "b"
   ]
  },
  {
   "cell_type": "code",
   "execution_count": null,
   "metadata": {},
   "outputs": [],
   "source": []
  },
  {
   "cell_type": "code",
   "execution_count": null,
   "metadata": {},
   "outputs": [],
   "source": []
  }
 ],
 "metadata": {
  "kernelspec": {
   "display_name": "Python 3",
   "language": "python",
   "name": "python3"
  },
  "language_info": {
   "codemirror_mode": {
    "name": "ipython",
    "version": 3
   },
   "file_extension": ".py",
   "mimetype": "text/x-python",
   "name": "python",
   "nbconvert_exporter": "python",
   "pygments_lexer": "ipython3",
   "version": "3.7.6"
  },
  "varInspector": {
   "cols": {
    "lenName": 16,
    "lenType": 16,
    "lenVar": 40
   },
   "kernels_config": {
    "python": {
     "delete_cmd_postfix": "",
     "delete_cmd_prefix": "del ",
     "library": "var_list.py",
     "varRefreshCmd": "print(var_dic_list())"
    },
    "r": {
     "delete_cmd_postfix": ") ",
     "delete_cmd_prefix": "rm(",
     "library": "var_list.r",
     "varRefreshCmd": "cat(var_dic_list()) "
    }
   },
   "types_to_exclude": [
    "module",
    "function",
    "builtin_function_or_method",
    "instance",
    "_Feature"
   ],
   "window_display": false
  }
 },
 "nbformat": 4,
 "nbformat_minor": 4
}
