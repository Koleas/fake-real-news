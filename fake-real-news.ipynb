{
 "cells": [
  {
   "cell_type": "code",
   "execution_count": null,
   "metadata": {
    "ExecuteTime": {
     "end_time": "2020-08-06T09:12:34.123683Z",
     "start_time": "2020-08-06T09:12:33.967691Z"
    }
   },
   "outputs": [],
   "source": [
    "import pandas as pd"
   ]
  },
  {
   "cell_type": "code",
   "execution_count": null,
   "metadata": {
    "ExecuteTime": {
     "end_time": "2020-08-06T09:12:34.543741Z",
     "start_time": "2020-08-06T09:12:34.134061Z"
    }
   },
   "outputs": [],
   "source": [
    "df = pd.read_csv ('dataset/Fake.csv')\n",
    "fileFake = df['text'].to_list()"
   ]
  },
  {
   "cell_type": "code",
   "execution_count": null,
   "metadata": {},
   "outputs": [],
   "source": [
    "df = pd.read_csv ('dataset/True.csv')\n",
    "fileTrue = df['text'].to_list()"
   ]
  },
  {
   "cell_type": "code",
   "execution_count": null,
   "metadata": {
    "ExecuteTime": {
     "end_time": "2020-08-06T09:12:34.993699Z",
     "start_time": "2020-08-06T09:12:34.989970Z"
    }
   },
   "outputs": [],
   "source": [
    "def updatedict(dictionary1,dictionary2):\n",
    "    for i in dictionary2.keys():\n",
    "        if i in dictionary1:\n",
    "            dictionary1[i]+=dictionary2[i]\n",
    "        else:\n",
    "            dictionary1[i]=dictionary2[i]\n",
    "    return dictionary1"
   ]
  },
  {
   "cell_type": "code",
   "execution_count": null,
   "metadata": {
    "ExecuteTime": {
     "end_time": "2020-08-06T09:12:45.593875Z",
     "start_time": "2020-08-06T09:12:35.432388Z"
    }
   },
   "outputs": [],
   "source": [
    "def freequencyCounter(text_input):\n",
    "    bb={}\n",
    "    for j in text_input:\n",
    "        a = list(map(lambda x: x.lower().replace(\".\",\"\").replace(\",\",\"\").replace(\":\",\"\").replace(\"@\",\"\"),j.split(' ')))\n",
    "        b={i:0 for i in a}\n",
    "        for i in a:\n",
    "            b[i]+=1\n",
    "        bb=updatedict(bb,b)\n",
    "    blacklist = ['the','a','to','of','in','on','for','s','no','and','us','not','at','an','or','off','as']\n",
    "    for d in blacklist:\n",
    "        del bb[d]\n",
    "    #Сортировка\n",
    "    dicti = dict.fromkeys(fileTrue,2)\n",
    "    dict_items = dicti.items()\n",
    "    first_hundread = list(dict_items)[:2]\n",
    "    return {k: v for k, v in sorted(bb.items(), key=lambda item: item[1], reverse=True)}   "
   ]
  },
  {
   "cell_type": "code",
   "execution_count": null,
   "metadata": {},
   "outputs": [],
   "source": [
    "# print(freequencyCounter(fileFake))\n",
    "print(freequencyCounter(fileTrue))\n"
   ]
  },
  {
   "cell_type": "code",
   "execution_count": null,
   "metadata": {},
   "outputs": [],
   "source": [
    "# a_dictionary = {1:2, 2:4,5:8}\n",
    "# dict_items = a_dictionary.items()\n",
    "# first_two = list(dict_items)[:3]\n",
    "# new_dict = dict(first_two)\n",
    "# print(new_dict)"
   ]
  }
 ],
 "metadata": {
  "kernelspec": {
   "display_name": "Python 3",
   "language": "python",
   "name": "python3"
  },
  "language_info": {
   "codemirror_mode": {
    "name": "ipython",
    "version": 3
   },
   "file_extension": ".py",
   "mimetype": "text/x-python",
   "name": "python",
   "nbconvert_exporter": "python",
   "pygments_lexer": "ipython3",
   "version": "3.7.6"
  },
  "varInspector": {
   "cols": {
    "lenName": 16,
    "lenType": 16,
    "lenVar": 40
   },
   "kernels_config": {
    "python": {
     "delete_cmd_postfix": "",
     "delete_cmd_prefix": "del ",
     "library": "var_list.py",
     "varRefreshCmd": "print(var_dic_list())"
    },
    "r": {
     "delete_cmd_postfix": ") ",
     "delete_cmd_prefix": "rm(",
     "library": "var_list.r",
     "varRefreshCmd": "cat(var_dic_list()) "
    }
   },
   "types_to_exclude": [
    "module",
    "function",
    "builtin_function_or_method",
    "instance",
    "_Feature"
   ],
   "window_display": false
  }
 },
 "nbformat": 4,
 "nbformat_minor": 4
}
