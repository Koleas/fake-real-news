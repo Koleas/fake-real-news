{
 "cells": [
  {
   "cell_type": "code",
   "execution_count": 2,
   "metadata": {},
   "outputs": [],
   "source": [
    "import pandas as pd\n",
    "from collections import Counter"
   ]
  },
  {
   "cell_type": "code",
   "execution_count": 6,
   "metadata": {},
   "outputs": [],
   "source": [
    "df = pd.read_csv ('dataset/Fake.csv')\n",
    "fileFake = df['text'].to_list()\n",
    "a=fileFake[1].split(' ') "
   ]
  },
  {
   "cell_type": "code",
   "execution_count": 7,
   "metadata": {},
   "outputs": [],
   "source": [
    "word_list = []\n",
    "for word in a:\n",
    "    words = \"\"\n",
    "    for letter in word:\n",
    "        if letter.isalpha():\n",
    "            words +=letter.lower()\n",
    "    word_list.append(words)\n"
   ]
  },
  {
   "cell_type": "code",
   "execution_count": 8,
   "metadata": {},
   "outputs": [
    {
     "name": "stdout",
     "output_type": "stream",
     "text": [
      "Counter({'the': 16, 'a': 11, 'to': 9, 'of': 6, 'trump': 6, 'papadopoulos': 6, 'that': 5, 'and': 5, '': 5, 'with': 5, 'is': 4, 'he': 4, 's': 4, 'was': 3, 'in': 3, 'as': 3, 'it': 3, 'wine': 3, 't': 3, 'but': 3, 'australian': 3, 'officials': 3, 'been': 2, 'what': 2, 'investigation': 2, 'so': 2, 'at': 2, 'fbi': 2, 'according': 2, 'by': 2, 'new': 2, 'york': 2, 'bar': 2, 'when': 2, 'revealed': 2, 'knowledge': 2, 'russian': 2, 'on': 2, 'hillary': 2, 'for': 2, 'much': 2, 'role': 2, 'being': 2, 'coffee': 2, 'two': 2, 'months': 2, 'before': 2, 'former': 2, 'alexander': 2, 'downer': 2, 'mr': 2, 'american': 2, 'house': 1, 'intelligence': 1, 'committee': 1, 'chairman': 1, 'devin': 1, 'nunes': 1, 'going': 1, 'have': 1, 'bad': 1, 'day': 1, 'under': 1, 'assumption': 1, 'like': 1, 'many': 1, 'us': 1, 'christopher': 1, 'steeledossier': 1, 'prompted': 1, 'russia': 1, 'lashing': 1, 'out': 1, 'department': 1, 'justice': 1, 'order': 1, 'protect': 1, 'happens': 1, 'dossier': 1, 'not': 1, 'started': 1, 'documents': 1, 'obtained': 1, 'timesformer': 1, 'campaign': 1, 'adviser': 1, 'george': 1, 'drunk': 1, 'opposition': 1, 'research': 1, 'clintonon': 1, 'top': 1, 'wasn': 1, 'just': 1, 'covfefe': 1, 'boy': 1, 'his': 1, 'administration': 1, 'has': 1, 'alleged': 1, 'had': 1, 'larger': 1, 'none': 1, 'damning': 1, 'drunken': 1, 'fool': 1, 'boys': 1, 'don': 1, 'help': 1, 'arrange': 1, 'meeting': 1, 'between': 1, 'president': 1, 'abdel': 1, 'fattah': 1, 'elsisi': 1, 'egypt': 1, 'election': 1, 'known': 1, 'aide': 1, 'set': 1, 'up': 1, 'meetings': 1, 'world': 1, 'leaders': 1, 'team': 1, 'ran': 1, 'him': 1, 'merely': 1, 'boyin': 1, 'may': 1, 'diplomat': 1, 'were': 1, 'shopping': 1, 'around': 1, 'possible': 1, 'dirt': 1, 'thendemocratic': 1, 'presidential': 1, 'nominee': 1, 'clinton': 1, 'exactly': 1, 'how': 1, 'said': 1, 'night': 1, 'kensington': 1, 'rooms': 1, 'unclear': 1, 'report': 1, 'states': 1, 'later': 1, 'leaked': 1, 'democratic': 1, 'emails': 1, 'began': 1, 'appearing': 1, 'online': 1, 'passed': 1, 'information': 1, 'about': 1, 'their': 1, 'counterparts': 1, 'four': 1, 'current': 1, 'foreign': 1, 'direct': 1, 'australians': 1, 'pleaded': 1, 'guilty': 1, 'lying': 1, 'now': 1, 'cooperating': 1, 'witness': 1, 'special': 1, 'counsel': 1, 'robert': 1, 'mueller': 1, 'teamthis': 1, 'isn': 1, 'presidency': 1, 'badly': 1, 'scripted': 1, 'reality': 1, 'tv': 1, 'showphoto': 1, 'win': 1, 'mcnameegetty': 1, 'images': 1})\n"
     ]
    }
   ],
   "source": [
    "print (Counter(word_list))    "
   ]
  },
  {
   "cell_type": "code",
   "execution_count": null,
   "metadata": {},
   "outputs": [],
   "source": []
  }
 ],
 "metadata": {
  "kernelspec": {
   "display_name": "Python 3",
   "language": "python",
   "name": "python3"
  },
  "language_info": {
   "codemirror_mode": {
    "name": "ipython",
    "version": 3
   },
   "file_extension": ".py",
   "mimetype": "text/x-python",
   "name": "python",
   "nbconvert_exporter": "python",
   "pygments_lexer": "ipython3",
   "version": "3.7.6"
  }
 },
 "nbformat": 4,
 "nbformat_minor": 4
}
